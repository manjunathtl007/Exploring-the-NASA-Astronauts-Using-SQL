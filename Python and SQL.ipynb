{
 "cells": [
  {
   "cell_type": "markdown",
   "id": "b60bca8d",
   "metadata": {},
   "source": [
    "## Module 1: Data Processing\n",
    "### Task 1\n",
    "Here, I read the csv file into dataframe using pandas for the further analysis."
   ]
  },
  {
   "cell_type": "code",
   "execution_count": null,
   "id": "3fe1d42e",
   "metadata": {},
   "outputs": [],
   "source": [
    "import pandas as pd\n",
    "df = pd.read_csv('nasa.csv')\n",
    "df"
   ]
  },
  {
   "cell_type": "markdown",
   "id": "a7671fab",
   "metadata": {},
   "source": [
    "### Task 2\n",
    "\n",
    "Now i want to know the null values in the data"
   ]
  },
  {
   "cell_type": "code",
   "execution_count": null,
   "id": "66a5637b",
   "metadata": {},
   "outputs": [],
   "source": [
    "df.isnull().sum()\n"
   ]
  },
  {
   "cell_type": "markdown",
   "id": "f15803ce",
   "metadata": {},
   "source": [
    "### Task 3\n",
    "Coming to this task, I will remove the row where the Alma_Mater column null value. Then, drop the rows where the Death_Mission is null and the Death date is not null."
   ]
  },
  {
   "cell_type": "code",
   "execution_count": null,
   "id": "3f2d6c64",
   "metadata": {},
   "outputs": [],
   "source": [
    "df.dropna(subset=['Alma_Mater'], inplace=True)\n",
    "# Dropping rows where 'Death_mission' is null but 'Death_date' is present\n",
    "df.drop(df[(df['Death_Mission'].isnull()) & (df['Death_Date'].notnull())].index, inplace=True)\n",
    "df"
   ]
  },
  {
   "cell_type": "markdown",
   "id": "f758c572",
   "metadata": {},
   "source": [
    "### Task 4\n",
    "Finally i export the dataframe to csv file for the SQL analysis."
   ]
  },
  {
   "cell_type": "code",
   "execution_count": null,
   "id": "788fc926",
   "metadata": {},
   "outputs": [],
   "source": [
    "df.to_csv('astronauts.csv', index = False)"
   ]
  },
  {
   "cell_type": "markdown",
   "id": "dd823696",
   "metadata": {},
   "source": [
    "## Module 2\n",
    "### Task 1: Data Download, Import, and Database Connection."
   ]
  },
  {
   "cell_type": "code",
   "execution_count": null,
   "id": "e6557ba9",
   "metadata": {},
   "outputs": [],
   "source": [
    "# Download the dataset astronauts.csv which is exported in Module 1 - Task 4.\n",
    "# Create the table on MYSQL.\n",
    "# Use the %load_ext sql command to load the SQL extension in my Jupyter Notebook environment. This extension allows us to run SQL commands directly within your notebook.\n",
    "# Use the %sql magic command to specify the connection string for your MySQL database.\n",
    "\n",
    "\n",
    "# -- Load the sql extention ----\n",
    "%load_ext sql\n",
    "\n",
    "# --- Load your mysql db using credentials from the \"DB\" area ---\n",
    "# I created the nasa database in the mysql there i uploaded the astronauts.csv file\n",
    "%sql mysql+pymysql://root:@localhost/nasa"
   ]
  },
  {
   "cell_type": "markdown",
   "id": "143a5239",
   "metadata": {},
   "source": [
    "### Task 2\n",
    "I retreived all the data"
   ]
  },
  {
   "cell_type": "code",
   "execution_count": null,
   "id": "6a323734",
   "metadata": {},
   "outputs": [],
   "source": [
    "%%sql\n",
    "SELECT * FROM astronauts;"
   ]
  },
  {
   "cell_type": "markdown",
   "id": "48688e60",
   "metadata": {},
   "source": [
    "### Task 3\n",
    "Find out the status of the astronaut."
   ]
  },
  {
   "cell_type": "code",
   "execution_count": null,
   "id": "fd333c13",
   "metadata": {},
   "outputs": [],
   "source": [
    "%%sql\n",
    "SELECT Status, COUNT(*) AS Number\n",
    "FROM astronauts\n",
    "GROUP BY Status;"
   ]
  },
  {
   "cell_type": "markdown",
   "id": "2e778e43",
   "metadata": {},
   "source": [
    "### Task 4\n",
    "Find out the Military Branch of the astronaut."
   ]
  },
  {
   "cell_type": "code",
   "execution_count": null,
   "id": "4120729c",
   "metadata": {},
   "outputs": [],
   "source": [
    "%%sql\n",
    "SELECT Military_Branch, COUNT(*) AS Number\n",
    "FROM astronauts\n",
    "GROUP BY Military_Branch;"
   ]
  },
  {
   "cell_type": "markdown",
   "id": "689baf3b",
   "metadata": {},
   "source": [
    "### Task 5\n",
    "Find out the top 5 military ranks of the astronaut."
   ]
  },
  {
   "cell_type": "code",
   "execution_count": null,
   "id": "b0bf7814",
   "metadata": {},
   "outputs": [],
   "source": [
    "%%sql\n",
    "SELECT Military_Rank, COUNT(*) AS Number\n",
    "FROM astronauts\n",
    "GROUP BY Military_Rank\n",
    "ORDER BY Number DESC\n",
    "LIMIT 5;"
   ]
  },
  {
   "cell_type": "markdown",
   "id": "b633e647",
   "metadata": {},
   "source": [
    "### Task 6\n",
    "Calculate the number of male and female astronauts."
   ]
  },
  {
   "cell_type": "code",
   "execution_count": null,
   "id": "de813a59",
   "metadata": {},
   "outputs": [],
   "source": [
    "%%sql\n",
    "SELECT Gender, COUNT(*) AS Number\n",
    "FROM astronauts\n",
    "GROUP BY Gender;"
   ]
  },
  {
   "cell_type": "markdown",
   "id": "6e8e43db",
   "metadata": {},
   "source": [
    "### Task 7\n",
    "What is the average life expectancy of an astronaut?"
   ]
  },
  {
   "cell_type": "code",
   "execution_count": null,
   "id": "f6608c44",
   "metadata": {},
   "outputs": [],
   "source": [
    "%%sql\n",
    "SELECT ROUND(AVG(life_Expectancy),0) AS Average_Life_Expectancy\n",
    "FROM(\n",
    "SELECT\n",
    "    CASE\n",
    "        WHEN Status = 'Deceased' THEN Substring_index(Death_Date,'/',-1) - Substring_index(Birth_Date,'/',-1)\n",
    "        WHEN Status != 'Deceased' THEN  2023 - Substring_index(Birth_Date,'/',-1)\n",
    "    END AS life_Expectancy\n",
    " FROM astronauts\n",
    " ) AS Life_Expect;"
   ]
  },
  {
   "cell_type": "markdown",
   "id": "f714e457",
   "metadata": {},
   "source": [
    "### Task 8\n",
    "What is the average life expectancy of a female astronaut?"
   ]
  },
  {
   "cell_type": "code",
   "execution_count": null,
   "id": "d6978567",
   "metadata": {},
   "outputs": [],
   "source": [
    "%%sql\n",
    "SELECT ROUND(AVG(Female_life_Expectancy),0) AS Female_Average_Life_Expectancy\n",
    "FROM(\n",
    "SELECT\n",
    "\tCASE\n",
    "\t\tWHEN Status = 'Deceased' AND Gender ='Female' THEN Substring_index(Death_Date,'/',-1) - Substring_index(Birth_Date,'/',-1)\n",
    "\t\tWHEN Status != 'Deceased' AND Gender ='Female' THEN  2023 - Substring_index(Birth_Date,'/',-1)\n",
    "    END AS Female_life_Expectancy\n",
    " FROM astronauts\n",
    " ) AS Life_Expect;"
   ]
  },
  {
   "cell_type": "markdown",
   "id": "82b3ed5d",
   "metadata": {},
   "source": [
    "### Task 9\n",
    "What is the average life expectancy of a male astronaut?"
   ]
  },
  {
   "cell_type": "code",
   "execution_count": null,
   "id": "737916c7",
   "metadata": {},
   "outputs": [],
   "source": [
    "%%sql\n",
    "\n",
    "SELECT ROUND(AVG(Male_life_Expectancy),0) AS Male_Average_Life_Expectancy\n",
    "FROM(\n",
    "SELECT\n",
    "\tCASE\n",
    "\t\tWHEN Status = 'Deceased' AND Gender ='Male' THEN Substring_index(Death_Date,'/',-1) - Substring_index(Birth_Date,'/',-1)\n",
    "\t\tWHEN Status != 'Deceased' AND Gender ='Male' THEN  2023 - Substring_index(Birth_Date,'/',-1)\n",
    "    END AS Male_life_Expectancy\n",
    " FROM astronauts\n",
    " ) AS Life_Expect;"
   ]
  },
  {
   "cell_type": "markdown",
   "id": "eda8fc84",
   "metadata": {},
   "source": [
    "### Task 10\n",
    "Find out the top 10 educational backgrounds (graduates) that astronauts have."
   ]
  },
  {
   "cell_type": "code",
   "execution_count": null,
   "id": "98884bbf",
   "metadata": {},
   "outputs": [],
   "source": [
    "%%sql\n",
    "SELECT Graduate_Major, COUNT(Graduate_Major) AS Number\n",
    "FROM astronauts\n",
    "GROUP BY Graduate_Major\n",
    "ORDER BY Number DESC\n",
    "LIMIT 10;"
   ]
  },
  {
   "cell_type": "markdown",
   "id": "6ba6421d",
   "metadata": {},
   "source": [
    "### Task 11\n",
    "Calculate the count of astronauts with undergraduate and graduate degrees."
   ]
  },
  {
   "cell_type": "code",
   "execution_count": null,
   "id": "6531075e",
   "metadata": {},
   "outputs": [],
   "source": [
    "%%sql\n",
    "SELECT COUNT(*) AS Number_of_Astronauts,\n",
    "COUNT(Undergraduate_Major) AS Astronauts_with_Undergraduate_Degrees,\n",
    "COUNT(Graduate_Major)AS Astronauts_with_Graduate_Degrees\n",
    "FROM astronauts;"
   ]
  },
  {
   "cell_type": "markdown",
   "id": "2e8aebb4",
   "metadata": {},
   "source": [
    "### Task 12\n",
    "Find out the top 5 countries/states from which astronauts come."
   ]
  },
  {
   "cell_type": "code",
   "execution_count": null,
   "id": "1cb0548e",
   "metadata": {},
   "outputs": [],
   "source": [
    "%%sql\n",
    "SELECT  Substring_index(Birth_Place,',',-1) AS STATE, Count(*) AS Number\n",
    "FROM  astronauts\n",
    "GROUP BY STAE\n",
    "ORDER BY Number DESC\n",
    "LIMIT 5;"
   ]
  },
  {
   "cell_type": "markdown",
   "id": "1c9b9efb",
   "metadata": {},
   "source": [
    "### Task 13\n",
    "Find out the average number of space flights and spacewalks for astronauts."
   ]
  },
  {
   "cell_type": "code",
   "execution_count": null,
   "id": "c4855513",
   "metadata": {},
   "outputs": [],
   "source": [
    "%%sql\n",
    "SELECT ROUND(AVG(Space_Flights),2) AS Average_Number_Of_Space_Flight , ROUND(AVG(Space_Walks),2) AS Average_Number_Of_Space_Walks\n",
    "FROM astronauts;"
   ]
  }
 ],
 "metadata": {
  "kernelspec": {
   "display_name": "Python 3 (ipykernel)",
   "language": "python",
   "name": "python3"
  },
  "language_info": {
   "codemirror_mode": {
    "name": "ipython",
    "version": 3
   },
   "file_extension": ".py",
   "mimetype": "text/x-python",
   "name": "python",
   "nbconvert_exporter": "python",
   "pygments_lexer": "ipython3",
   "version": "3.11.4"
  }
 },
 "nbformat": 4,
 "nbformat_minor": 5
}
